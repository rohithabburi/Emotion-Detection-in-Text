{
 "cells": [
  {
   "cell_type": "code",
   "execution_count": 73,
   "metadata": {
    "execution": {
     "iopub.execute_input": "2023-11-27T23:52:57.517742Z",
     "iopub.status.busy": "2023-11-27T23:52:57.517362Z",
     "iopub.status.idle": "2023-11-27T23:52:57.523815Z",
     "shell.execute_reply": "2023-11-27T23:52:57.522725Z",
     "shell.execute_reply.started": "2023-11-27T23:52:57.517704Z"
    }
   },
   "outputs": [],
   "source": [
    "import pandas as pd\n",
    "from pprint import pprint\n",
    "import warnings \n",
    "warnings.filterwarnings('ignore')\n",
    "import gc\n",
    "import seaborn as sns\n",
    "import matplotlib.pyplot as plt\n",
    "from sklearn.utils import resample\n",
    "import string\n",
    "import numpy as np\n",
    "import tensorflow as tf\n",
    "import tensorflow_addons as tfa\n",
    "import keras_tuner as kt"
   ]
  },
  {
   "cell_type": "code",
   "execution_count": 42,
   "metadata": {
    "execution": {
     "iopub.execute_input": "2023-11-27T23:43:54.020676Z",
     "iopub.status.busy": "2023-11-27T23:43:54.019566Z",
     "iopub.status.idle": "2023-11-27T23:43:54.100738Z",
     "shell.execute_reply": "2023-11-27T23:43:54.099554Z",
     "shell.execute_reply.started": "2023-11-27T23:43:54.020590Z"
    }
   },
   "outputs": [
    {
     "name": "stdout",
     "output_type": "stream",
     "text": [
      "No. of Tweets:  40000\n",
      "['empty',\n",
      " 'sadness',\n",
      " 'enthusiasm',\n",
      " 'neutral',\n",
      " 'worry',\n",
      " 'surprise',\n",
      " 'love',\n",
      " 'fun',\n",
      " 'hate',\n",
      " 'happiness',\n",
      " 'boredom',\n",
      " 'relief',\n",
      " 'anger']\n"
     ]
    },
    {
     "data": {
      "text/html": [
       "<div>\n",
       "<style scoped>\n",
       "    .dataframe tbody tr th:only-of-type {\n",
       "        vertical-align: middle;\n",
       "    }\n",
       "\n",
       "    .dataframe tbody tr th {\n",
       "        vertical-align: top;\n",
       "    }\n",
       "\n",
       "    .dataframe thead th {\n",
       "        text-align: right;\n",
       "    }\n",
       "</style>\n",
       "<table border=\"1\" class=\"dataframe\">\n",
       "  <thead>\n",
       "    <tr style=\"text-align: right;\">\n",
       "      <th></th>\n",
       "      <th>tweet_id</th>\n",
       "      <th>sentiment</th>\n",
       "      <th>content</th>\n",
       "    </tr>\n",
       "  </thead>\n",
       "  <tbody>\n",
       "    <tr>\n",
       "      <th>0</th>\n",
       "      <td>1956967341</td>\n",
       "      <td>empty</td>\n",
       "      <td>@tiffanylue i know  i was listenin to bad habi...</td>\n",
       "    </tr>\n",
       "    <tr>\n",
       "      <th>1</th>\n",
       "      <td>1956967666</td>\n",
       "      <td>sadness</td>\n",
       "      <td>Layin n bed with a headache  ughhhh...waitin o...</td>\n",
       "    </tr>\n",
       "    <tr>\n",
       "      <th>2</th>\n",
       "      <td>1956967696</td>\n",
       "      <td>sadness</td>\n",
       "      <td>Funeral ceremony...gloomy friday...</td>\n",
       "    </tr>\n",
       "    <tr>\n",
       "      <th>3</th>\n",
       "      <td>1956967789</td>\n",
       "      <td>enthusiasm</td>\n",
       "      <td>wants to hang out with friends SOON!</td>\n",
       "    </tr>\n",
       "    <tr>\n",
       "      <th>4</th>\n",
       "      <td>1956968416</td>\n",
       "      <td>neutral</td>\n",
       "      <td>@dannycastillo We want to trade with someone w...</td>\n",
       "    </tr>\n",
       "  </tbody>\n",
       "</table>\n",
       "</div>"
      ],
      "text/plain": [
       "     tweet_id   sentiment                                            content\n",
       "0  1956967341       empty  @tiffanylue i know  i was listenin to bad habi...\n",
       "1  1956967666     sadness  Layin n bed with a headache  ughhhh...waitin o...\n",
       "2  1956967696     sadness                Funeral ceremony...gloomy friday...\n",
       "3  1956967789  enthusiasm               wants to hang out with friends SOON!\n",
       "4  1956968416     neutral  @dannycastillo We want to trade with someone w..."
      ]
     },
     "execution_count": 42,
     "metadata": {},
     "output_type": "execute_result"
    }
   ],
   "source": [
    "data = pd.read_csv('../input/emotion-detection-from-text/tweet_emotions.csv')\n",
    "\n",
    "print('No. of Tweets: ',data.shape[0])\n",
    "pprint(all_classes)\n",
    "\n",
    "data.head()"
   ]
  },
  {
   "cell_type": "code",
   "execution_count": 44,
   "metadata": {
    "execution": {
     "iopub.execute_input": "2023-11-27T23:44:30.577434Z",
     "iopub.status.busy": "2023-11-27T23:44:30.577157Z",
     "iopub.status.idle": "2023-11-27T23:44:30.808417Z",
     "shell.execute_reply": "2023-11-27T23:44:30.807398Z",
     "shell.execute_reply.started": "2023-11-27T23:44:30.577404Z"
    }
   },
   "outputs": [
    {
     "name": "stdout",
     "output_type": "stream",
     "text": [
      "Splitting ratio: \n",
      "\n",
      "train_split:  32000.0 , val_split:  6399.999999999999 , test-split:  1599.9999999999998\n",
      "\n",
      "All_Shapes: \n",
      "\n",
      "(32000, 3) (6398, 3) (1598, 3)\n"
     ]
    },
    {
     "data": {
      "text/plain": [
       "23"
      ]
     },
     "execution_count": 44,
     "metadata": {},
     "output_type": "execute_result"
    }
   ],
   "source": [
    "m = data.shape[0]\n",
    "train_split = 0.80 * m\n",
    "val_split = (1 - 0.80) * m\n",
    "test_split = 0.20 * val_split\n",
    "val_split = (1 - 0.20) * val_split\n",
    "\n",
    "print('Splitting ratio: ')\n",
    "print()\n",
    "print('train_split: ', train_split, ', val_split: ', val_split, ', test-split: ', test_split)\n",
    "\n",
    "train_data = data.iloc[:int(train_split)]\n",
    "val_data = data.iloc[int(train_split) + 1: int(train_split) + int(val_split)]\n",
    "test_data = data.iloc[int(train_split) + int(val_split) + 1 : int(train_split) + int(val_split) + int(test_split)]\n",
    "print()\n",
    "print('All_Shapes: ')\n",
    "print()\n",
    "print(train_data.shape, val_data.shape, test_data.shape)\n",
    "\n",
    "del val_split\n",
    "del train_split\n",
    "del test_split\n",
    "gc.collect()"
   ]
  },
  {
   "cell_type": "code",
   "execution_count": 46,
   "metadata": {
    "execution": {
     "iopub.execute_input": "2023-11-27T23:44:56.696085Z",
     "iopub.status.busy": "2023-11-27T23:44:56.695829Z",
     "iopub.status.idle": "2023-11-27T23:44:56.704570Z",
     "shell.execute_reply": "2023-11-27T23:44:56.703387Z",
     "shell.execute_reply.started": "2023-11-27T23:44:56.696057Z"
    }
   },
   "outputs": [
    {
     "name": "stdout",
     "output_type": "stream",
     "text": [
      "worry         7641\n",
      "neutral       6790\n",
      "sadness       4886\n",
      "happiness     3434\n",
      "love          2388\n",
      "surprise      1743\n",
      "fun           1247\n",
      "hate          1216\n",
      "relief        1130\n",
      "empty          699\n",
      "enthusiasm     567\n",
      "boredom        161\n",
      "anger           98\n",
      "Name: sentiment, dtype: int64\n"
     ]
    }
   ],
   "source": [
    "print(train_data['sentiment'].value_counts())"
   ]
  },
  {
   "cell_type": "code",
   "execution_count": 47,
   "metadata": {
    "execution": {
     "iopub.execute_input": "2023-11-27T23:45:17.494206Z",
     "iopub.status.busy": "2023-11-27T23:45:17.493314Z",
     "iopub.status.idle": "2023-11-27T23:45:17.594362Z",
     "shell.execute_reply": "2023-11-27T23:45:17.593554Z",
     "shell.execute_reply.started": "2023-11-27T23:45:17.494170Z"
    }
   },
   "outputs": [
    {
     "data": {
      "text/plain": [
       "anger         6790\n",
       "relief        6790\n",
       "boredom       6790\n",
       "happiness     6790\n",
       "hate          6790\n",
       "fun           6790\n",
       "love          6790\n",
       "surprise      6790\n",
       "worry         6790\n",
       "enthusiasm    6790\n",
       "sadness       6790\n",
       "empty         6790\n",
       "neutral       6790\n",
       "Name: sentiment, dtype: int64"
      ]
     },
     "execution_count": 47,
     "metadata": {},
     "output_type": "execute_result"
    }
   ],
   "source": [
    "maxx = 3\n",
    "target_majority = train_data[train_data.sentiment==all_classes[maxx]]\n",
    "\n",
    "\n",
    "for cl in range(13):\n",
    "    train_minority = data[data.sentiment==all_classes[cl]]\n",
    "    train_minority_upsampled = resample(train_minority, replace=True, n_samples=len(target_majority), random_state=123)\n",
    "    if cl == 0:\n",
    "        train_upsampled = pd.concat([train_minority_upsampled, target_majority])\n",
    "        #train_upsampled = pd.concat([train_upsampled, ])\n",
    "    if cl>0 and cl!=maxx:\n",
    "        train_upsampled = pd.concat([train_minority_upsampled, train_upsampled])\n",
    "\n",
    "train_upsampled['sentiment'].value_counts() "
   ]
  },
  {
   "cell_type": "code",
   "execution_count": 51,
   "metadata": {
    "execution": {
     "iopub.execute_input": "2023-11-27T23:46:44.436799Z",
     "iopub.status.busy": "2023-11-27T23:46:44.436357Z",
     "iopub.status.idle": "2023-11-27T23:46:45.830705Z",
     "shell.execute_reply": "2023-11-27T23:46:45.829989Z",
     "shell.execute_reply.started": "2023-11-27T23:46:44.436763Z"
    }
   },
   "outputs": [
    {
     "name": "stdout",
     "output_type": "stream",
     "text": [
      "\n",
      "All_samples:  32000\n",
      "Diff. words:  45300\n"
     ]
    }
   ],
   "source": [
    "content_text = train_data.content.tolist()\n",
    "all_classes = train_data.sentiment.unique().tolist()\n",
    "content_text = train_data.content.tolist()\n",
    "ex_char = string.punctuation\n",
    "ex_char = ex_char.replace('~', '')\n",
    "c_text = '~~~~~~'.join(content_text)\n",
    "\n",
    "x = c_text.translate(str.maketrans('', '', ex_char))\n",
    "c_text = x.split('~~~~~~')\n",
    "\n",
    "#print('Samples: ',len(c_text))\n",
    "\n",
    "token_data = tf.keras.preprocessing.text.Tokenizer(num_words=None,\n",
    "    filters='!\"#$%&()*+,-./:;<=>?@[\\\\]^_`{|}~\\t\\n',lower=True,split=' ')\n",
    "token_data.fit_on_texts(c_text)\n",
    "ind_text = token_data.texts_to_sequences(c_text)\n",
    "\n",
    "print()\n",
    "\n",
    "print('All_samples: ', len(ind_text))\n",
    "word_index = token_data.word_index\n",
    "print('Diff. words: ', len(list(word_index)))\n"
   ]
  },
  {
   "cell_type": "code",
   "execution_count": 55,
   "metadata": {
    "execution": {
     "iopub.execute_input": "2023-11-27T23:47:58.753152Z",
     "iopub.status.busy": "2023-11-27T23:47:58.752877Z",
     "iopub.status.idle": "2023-11-27T23:47:58.761053Z",
     "shell.execute_reply": "2023-11-27T23:47:58.760004Z",
     "shell.execute_reply.started": "2023-11-27T23:47:58.753114Z"
    }
   },
   "outputs": [
    {
     "name": "stdout",
     "output_type": "stream",
     "text": [
      "No. of Labels:  13\n",
      "\n",
      "\n",
      "{0: 'empty', 1: 'sadness', 2: 'enthusiasm', 3: 'neutral', 4: 'worry', 5: 'surprise', 6: 'love', 7: 'fun', 8: 'hate', 9: 'happiness', 10: 'boredom', 11: 'relief', 12: 'anger'}\n"
     ]
    }
   ],
   "source": [
    "label_token = tf.keras.preprocessing.text.Tokenizer(num_words=len(all_classes),\n",
    "    filters='!\"#$%&()*+,-./:;<=>?@[\\\\]^_`{|}~\\t\\n',lower=True,split=' ')\n",
    "classes = ' '.join(all_classes)\n",
    "label_token.fit_on_texts([classes])\n",
    "label_index = label_token.word_index\n",
    "print('No. of Labels: ',len(list(label_index)))\n",
    "print()\n",
    "label_index = {key:value-1 for key, value in label_index.items()}\n",
    "inv_label_index = {value:key for key, value in label_index.items()}\n",
    "print()\n",
    "print(inv_label_index)"
   ]
  },
  {
   "cell_type": "code",
   "execution_count": 56,
   "metadata": {
    "execution": {
     "iopub.execute_input": "2023-11-27T23:48:02.665233Z",
     "iopub.status.busy": "2023-11-27T23:48:02.664910Z",
     "iopub.status.idle": "2023-11-27T23:48:02.686444Z",
     "shell.execute_reply": "2023-11-27T23:48:02.685367Z",
     "shell.execute_reply.started": "2023-11-27T23:48:02.665201Z"
    }
   },
   "outputs": [
    {
     "name": "stdout",
     "output_type": "stream",
     "text": [
      "Label_shape:  (32000,)\n",
      "array([0, 1, 1, 2, 3, 4, 1, 4, 1, 1])\n"
     ]
    }
   ],
   "source": [
    "y_train = []\n",
    "for i in train_data.sentiment:\n",
    "    y_train.append(label_index.get(i))\n",
    "y_train = np.array(y_train)\n",
    "print('Label_shape: ', y_train.shape)\n",
    "pprint(y_train[:10])"
   ]
  },
  {
   "cell_type": "code",
   "execution_count": 57,
   "metadata": {
    "execution": {
     "iopub.execute_input": "2023-11-27T23:48:08.340872Z",
     "iopub.status.busy": "2023-11-27T23:48:08.340530Z",
     "iopub.status.idle": "2023-11-27T23:48:08.514984Z",
     "shell.execute_reply": "2023-11-27T23:48:08.513886Z",
     "shell.execute_reply.started": "2023-11-27T23:48:08.340833Z"
    }
   },
   "outputs": [
    {
     "name": "stdout",
     "output_type": "stream",
     "text": [
      "max_input_length:  33\n",
      "x_train_shape:  (32000, 33) , y_train_shape:  (32000,)\n"
     ]
    }
   ],
   "source": [
    "x_train = np.array(ind_text)\n",
    "max_inp_len = len(x_train[0])\n",
    "for step, i in enumerate(x_train):\n",
    "    if len(i) > max_inp_len:\n",
    "        max_inp_len = len(i)\n",
    "print('max_input_length: ',max_inp_len)\n",
    "\n",
    "x_train = tf.keras.preprocessing.sequence.pad_sequences(x_train, maxlen = max_inp_len, padding = 'post')\n",
    "print('x_train_shape: ',x_train.shape, ', y_train_shape: ', y_train.shape)"
   ]
  },
  {
   "cell_type": "code",
   "execution_count": 65,
   "metadata": {
    "execution": {
     "iopub.execute_input": "2023-11-27T23:51:16.986859Z",
     "iopub.status.busy": "2023-11-27T23:51:16.986556Z",
     "iopub.status.idle": "2023-11-27T23:51:17.187613Z",
     "shell.execute_reply": "2023-11-27T23:51:17.186672Z",
     "shell.execute_reply.started": "2023-11-27T23:51:16.986830Z"
    }
   },
   "outputs": [
    {
     "name": "stdout",
     "output_type": "stream",
     "text": [
      "Val_Preprocessing:\n",
      "Val_samples:  6398\n",
      "\n",
      "All_Val_samples:  6398\n",
      "Label_shape:  (6398,)\n",
      "--------\n",
      "Test_Preprocessing ...\n",
      "Again_Test_samples:  1598\n",
      "\n",
      "All_Test_samples:  1598\n",
      "Label_shape:  (1598,)\n"
     ]
    }
   ],
   "source": [
    "def val_preprocess(val_data, token_data, label_index):\n",
    "    \n",
    "    content_text = val_data.content.tolist()\n",
    "    all_classes = val_data.sentiment.unique().tolist()\n",
    "\n",
    "    content_text = val_data.content.tolist()\n",
    "    ex_char = string.punctuation\n",
    "    ex_char = ex_char.replace('~', '')\n",
    "    c_text = '~~~~~~'.join(content_text)\n",
    "\n",
    "    x = c_text.translate(str.maketrans('', '', ex_char))\n",
    "    c_text = x.split('~~~~~~')\n",
    "\n",
    "    print('Val_samples: ',len(c_text))\n",
    "    ind_text = token_data.texts_to_sequences(c_text)\n",
    "    x_val = np.array(ind_text)\n",
    "    print()\n",
    "\n",
    "    print('All_Val_samples: ', len(ind_text))\n",
    "    \n",
    "    y_val = []\n",
    "    for i in val_data.sentiment:\n",
    "        y_val.append(label_index.get(i))\n",
    "    y_val = np.array(y_val)\n",
    "    print('Label_shape: ', y_val.shape)\n",
    "    \n",
    "    return x_val, y_val\n",
    "    \n",
    "def test_preprocess(test_data, token_data, label_index):\n",
    "    \n",
    "    content_text = test_data.content.tolist()\n",
    "    all_classes = test_data.sentiment.unique().tolist()\n",
    "\n",
    "    content_text = test_data.content.tolist()\n",
    "    ex_char = string.punctuation\n",
    "    ex_char = ex_char.replace('~', '')\n",
    "    c_text = '~~~~~~'.join(content_text)\n",
    "\n",
    "    x = c_text.translate(str.maketrans('', '', ex_char))\n",
    "    c_text = x.split('~~~~~~')\n",
    "\n",
    "    print('Again_Test_samples: ',len(c_text))\n",
    "    ind_text = token_data.texts_to_sequences(c_text)\n",
    "    x_test = np.array(ind_text)\n",
    "    print()\n",
    "    print('All_Test_samples: ', len(ind_text))\n",
    "    y_test = []\n",
    "    for i in test_data.sentiment:\n",
    "        y_test.append(label_index.get(i))\n",
    "    y_test = np.array(y_test)\n",
    "    print('Label_shape: ', y_test.shape)\n",
    "    \n",
    "    return x_test, y_test\n",
    "        \n",
    "\n",
    "print('Val_Preprocessing:')\n",
    "x_val, y_val = val_preprocess(val_data, token_data, label_index)\n",
    "#print(x_val.shape, y_val.shape)\n",
    "print('--------')\n",
    "print('Test_Preprocessing ...')\n",
    "x_test, y_test = test_preprocess(test_data, token_data, label_index)\n",
    "#print(x_test.shape, y_test.shape)\n"
   ]
  },
  {
   "cell_type": "code",
   "execution_count": 66,
   "metadata": {
    "execution": {
     "iopub.execute_input": "2023-11-27T23:51:23.937538Z",
     "iopub.status.busy": "2023-11-27T23:51:23.937253Z",
     "iopub.status.idle": "2023-11-27T23:51:23.980508Z",
     "shell.execute_reply": "2023-11-27T23:51:23.979823Z",
     "shell.execute_reply.started": "2023-11-27T23:51:23.937507Z"
    }
   },
   "outputs": [
    {
     "name": "stdout",
     "output_type": "stream",
     "text": [
      "x_val_shape:  (6398, 33) , y_val_shape:  (6398,)\n",
      "x_test_shape:  (1598, 33) , y_test_shape:  (1598,)\n"
     ]
    }
   ],
   "source": [
    "x_val = tf.keras.preprocessing.sequence.pad_sequences(x_val, maxlen = max_inp_len, padding = 'post')\n",
    "print('x_val_shape: ',x_val.shape, ', y_val_shape: ', y_val.shape)\n",
    "x_test = tf.keras.preprocessing.sequence.pad_sequences(x_test, maxlen = max_inp_len, padding = 'post')\n",
    "print('x_test_shape: ',x_test.shape, ', y_test_shape: ', y_test.shape)"
   ]
  },
  {
   "cell_type": "code",
   "execution_count": 74,
   "metadata": {
    "execution": {
     "iopub.execute_input": "2023-11-27T23:53:18.099487Z",
     "iopub.status.busy": "2023-11-27T23:53:18.099142Z",
     "iopub.status.idle": "2023-11-27T23:53:18.115799Z",
     "shell.execute_reply": "2023-11-27T23:53:18.114337Z",
     "shell.execute_reply.started": "2023-11-27T23:53:18.099447Z"
    }
   },
   "outputs": [],
   "source": [
    "class T_encoder(tf.keras.layers.Layer):\n",
    "    def __init__(self, num_heads, embd_dim, dense_dim, num_classes , **kwargs):\n",
    "        super(T_encoder, self).__init__(**kwargs)\n",
    "        self.num_heads = num_heads\n",
    "        self.embd_dim = embd_dim\n",
    "        self.dense_dim = dense_dim\n",
    "        self.multi_head_layer = tf.keras.layers.MultiHeadAttention(num_heads = num_heads, key_dim = embd_dim)\n",
    "        \n",
    "        self.dense_layer = tf.keras.models.Sequential([\n",
    "            tf.keras.layers.Dense(dense_dim, activation='relu'),\n",
    "            tf.keras.layers.Dropout(0.5),\n",
    "            tf.keras.layers.Dense(embd_dim)])\n",
    "        \n",
    "        self.norm_layer_1 = tf.keras.layers.LayerNormalization()\n",
    "        self.norm_layer_2 = tf.keras.layers.LayerNormalization()\n",
    "        self.Final_Dense = tf.keras.layers.Dense(num_classes, activation = 'softmax')\n",
    "        self.supports_mask = True\n",
    "    \n",
    "\n",
    "    def call(self, inputs, mask=None): ## we mask the padding in encoder model\n",
    "        if mask is not None:\n",
    "            padding_mask = tf.cast(mask[:, tf.newaxis, tf.newaxis, :], dtype='int32') ## because attention is 5-D tensor \n",
    "        att_output = self.multi_head_layer(query = inputs, value = inputs, key = inputs, attention_mask = padding_mask)# (all vals) after instantiating pass query, value and key\n",
    "        att_output = tf.keras.layers.Dropout(0.5)(att_output)\n",
    "        output_1 = self.norm_layer_1(att_output + inputs)\n",
    "        \n",
    "        dense_output = self.dense_layer(output_1)\n",
    "        output_2 = self.norm_layer_2(dense_output + output_1)\n",
    "        fl_output = tf.keras.layers.Flatten()(output_2)\n",
    "        encoder_output = self.Final_Dense(fl_output)\n",
    "        \n",
    "        return encoder_output\n",
    "        \n",
    "class positional_encoding(tf.keras.layers.Layer):\n",
    "    def __init__(self, inp_dim , max_seq_len, embd_dim, **kwargs):\n",
    "        super(positional_encoding, self).__init__(**kwargs)\n",
    "        self.inp_dim = inp_dim\n",
    "        self.max_seq_len = max_seq_len\n",
    "        self.embd_dim = embd_dim\n",
    "        self.embd_layer = tf.keras.layers.Embedding(input_dim = inp_dim, output_dim = embd_dim)\n",
    "        self.pos_layer = tf.keras.layers.Embedding(input_dim = max_seq_len, output_dim = embd_dim)\n",
    "        \n",
    "    def call(self, inputs):\n",
    "        embd_output_1 = self.embd_layer(inputs)\n",
    "        pos_in = tf.range(start = 0, limit = self.max_seq_len, delta =1)\n",
    "        pos_output_1 = self.pos_layer(pos_in)\n",
    "        model_input = embd_output_1 + pos_output_1\n",
    "        return model_input\n",
    "    \n",
    "    def compute_mask(self, inputs, mask=None):\n",
    "        return tf.math.not_equal(inputs, 0) \n"
   ]
  },
  {
   "cell_type": "code",
   "execution_count": 75,
   "metadata": {
    "execution": {
     "iopub.execute_input": "2023-11-27T23:53:20.168210Z",
     "iopub.status.busy": "2023-11-27T23:53:20.167911Z",
     "iopub.status.idle": "2023-11-27T23:53:20.174437Z",
     "shell.execute_reply": "2023-11-27T23:53:20.173297Z",
     "shell.execute_reply.started": "2023-11-27T23:53:20.168178Z"
    }
   },
   "outputs": [],
   "source": [
    "def sec(epoch, learning_rate):\n",
    "    if epoch <= 2:\n",
    "        return learning_rate\n",
    "    else:\n",
    "        return learning_rate * tf.math.exp(-0.9)\n",
    "\n",
    "lrs = tf.keras.callbacks.LearningRateScheduler(sec)\n",
    "stop_early = tf.keras.callbacks.EarlyStopping(monitor = 'val_loss', patience = 10)"
   ]
  },
  {
   "cell_type": "code",
   "execution_count": 79,
   "metadata": {
    "execution": {
     "iopub.execute_input": "2023-11-27T23:55:48.722180Z",
     "iopub.status.busy": "2023-11-27T23:55:48.721870Z",
     "iopub.status.idle": "2023-11-27T23:55:49.548965Z",
     "shell.execute_reply": "2023-11-27T23:55:49.547819Z",
     "shell.execute_reply.started": "2023-11-27T23:55:48.722135Z"
    }
   },
   "outputs": [
    {
     "name": "stdout",
     "output_type": "stream",
     "text": [
      "Model: \"Transformer\"\n",
      "_________________________________________________________________\n",
      "Layer (type)                 Output Shape              Param #   \n",
      "=================================================================\n",
      "input_1 (InputLayer)         [(None, 33)]              0         \n",
      "_________________________________________________________________\n",
      "positional_encoding (positio (None, 33, 160)           7253440   \n",
      "_________________________________________________________________\n",
      "t_encoder (T_encoder)        (None, 13)                763933    \n",
      "=================================================================\n",
      "Total params: 8,017,373\n",
      "Trainable params: 8,017,373\n",
      "Non-trainable params: 0\n",
      "_________________________________________________________________\n"
     ]
    }
   ],
   "source": [
    "embd_dim = 64\n",
    "num_heads = 2\n",
    "dense_dim = 64\n",
    "num_classes = len(all_classes)\n",
    "\n",
    "def tuner_model(hp):\n",
    "    hp_embd_dim = hp.Int('embd_dim', min_value = 16, max_value = 512, step = 16)\n",
    "    hp_num_heads = hp.Int('num_heads', min_value = 2, max_value = 10, step = 2)\n",
    "    hp_dense_dim = hp.Int('dense_dim', min_value = 16, max_value = 512, step = 16)\n",
    "    hp_lr = hp.Choice('lr', values = [1e-2, 1e-3, 1e-4, 1e-5, 1e-6])\n",
    "    \n",
    "    inp_1  = tf.keras.layers.Input(shape=(x_train.shape[-1], ))\n",
    "    pos_op = positional_encoding(inp_dim = len(list(word_index))+1, max_seq_len = max_inp_len, embd_dim = hp_embd_dim )(inp_1)\n",
    "    enc_op = T_encoder(num_heads = hp_num_heads , embd_dim = hp_embd_dim, dense_dim = hp_dense_dim, num_classes = num_classes)(pos_op)\n",
    "\n",
    "    transformer = tf.keras.models.Model(inputs = inp_1, outputs = enc_op, name = 'Transformer')\n",
    "    transformer.compile(loss = \"sparse_categorical_crossentropy\", optimizer = tf.keras.optimizers.Adam(learning_rate = hp_lr), metrics = ['accuracy'])\n",
    "    return transformer\n",
    "\n",
    "tuner = kt.Hyperband(tuner_model, objective = 'loss', max_epochs = 3)\n",
    "tuner.search(x_train, y_train, epochs=5, callbacks=[stop_early, lrs])\n",
    "best_hps = tuner.get_best_hyperparameters(num_trials=1)[0]\n",
    "\n",
    "model_transformer = tuner.hypermodel.build(best_hps)\n",
    "model_transformer.summary()\n",
    "\n",
    "#tf.keras.utils.plot_model(model_transformer, show_shapes = True)"
   ]
  },
  {
   "cell_type": "code",
   "execution_count": 80,
   "metadata": {
    "execution": {
     "iopub.execute_input": "2023-11-27T23:55:49.550864Z",
     "iopub.status.busy": "2023-11-27T23:55:49.550604Z",
     "iopub.status.idle": "2023-11-28T00:14:14.247773Z",
     "shell.execute_reply": "2023-11-28T00:14:14.246428Z",
     "shell.execute_reply.started": "2023-11-27T23:55:49.550833Z"
    }
   },
   "outputs": [
    {
     "name": "stdout",
     "output_type": "stream",
     "text": [
      "(32000, 33) (32000,)\n",
      "Epoch 1/25\n",
      "1000/1000 [==============================] - 100s 99ms/step - loss: 2.2358 - accuracy: 0.2632 - val_loss: 2.0357 - val_accuracy: 0.3284\n",
      "Epoch 2/25\n",
      "1000/1000 [==============================] - 98s 98ms/step - loss: 1.4823 - accuracy: 0.5079 - val_loss: 2.3486 - val_accuracy: 0.3131\n",
      "Epoch 3/25\n",
      "1000/1000 [==============================] - 102s 102ms/step - loss: 0.4845 - accuracy: 0.8504 - val_loss: 2.7832 - val_accuracy: 0.2902\n",
      "Epoch 4/25\n",
      "1000/1000 [==============================] - 104s 104ms/step - loss: 0.1606 - accuracy: 0.9500 - val_loss: 3.1773 - val_accuracy: 0.2890\n",
      "Epoch 5/25\n",
      "1000/1000 [==============================] - 99s 99ms/step - loss: 0.0821 - accuracy: 0.9758 - val_loss: 3.4331 - val_accuracy: 0.2834\n",
      "Epoch 6/25\n",
      "1000/1000 [==============================] - 99s 99ms/step - loss: 0.0578 - accuracy: 0.9826 - val_loss: 3.7619 - val_accuracy: 0.2902\n",
      "Epoch 7/25\n",
      "1000/1000 [==============================] - 100s 100ms/step - loss: 0.0481 - accuracy: 0.9856 - val_loss: 3.9315 - val_accuracy: 0.2923\n",
      "Epoch 8/25\n",
      "1000/1000 [==============================] - 98s 98ms/step - loss: 0.0434 - accuracy: 0.9873 - val_loss: 3.9925 - val_accuracy: 0.2901\n",
      "Epoch 9/25\n",
      "1000/1000 [==============================] - 100s 100ms/step - loss: 0.0419 - accuracy: 0.9879 - val_loss: 4.0136 - val_accuracy: 0.2904\n",
      "Epoch 10/25\n",
      "1000/1000 [==============================] - 101s 101ms/step - loss: 0.0410 - accuracy: 0.9885 - val_loss: 4.0200 - val_accuracy: 0.2893\n",
      "Epoch 11/25\n",
      "1000/1000 [==============================] - 99s 99ms/step - loss: 0.0416 - accuracy: 0.9880 - val_loss: 4.0223 - val_accuracy: 0.2895\n",
      "\n",
      "-- Evaluation --\n",
      "50/50 [==============================] - 1s 26ms/step - loss: 3.8907 - accuracy: 0.3054\n",
      "\n"
     ]
    },
    {
     "data": {
      "image/png": "[encoded data removed]",
      "text/plain": [
       "<Figure size 1152x576 with 2 Axes>"
      ]
     },
     "metadata": {},
     "output_type": "display_data"
    }
   ],
   "source": [
    "print(x_train.shape, y_train.shape)\n",
    "his2 = model_transformer.fit(x_train, y_train, epochs=25, validation_data=(x_val, y_val), batch_size=32, callbacks = [stop_early, lrs]) ## Learining_rate_scheduler helps in controlling your loss\n",
    "print()\n",
    "print('-- Evaluation --')\n",
    "model_transformer.evaluate(x_test, y_test)\n",
    "print()\n",
    "his_2 = his2.history\n",
    "\n",
    "fig, axs = plt.subplots(1,2, figsize=(16,8))\n",
    "\n",
    "axs[0].set_title('Loss_Curve')\n",
    "ep = range(len(his_2['loss']))\n",
    "axs[0].plot(ep, his_2['loss'],'o--r',label = 'Training_loss')\n",
    "axs[0].plot(ep, his_2['val_loss'],'o--b',label = 'Val_loss')\n",
    "axs[0].set_xlabel('epoch')\n",
    "axs[0].set_ylabel('Loss')\n",
    "axs[0].legend()\n",
    "\n",
    "axs[1].set_title('Acc_Curve')\n",
    "ep = range(len(his_2['loss']))\n",
    "axs[1].plot(ep, his_2['accuracy'],'o--r',label = 'Training_acc')\n",
    "axs[1].plot(ep, his_2['val_accuracy'],'o--b',label = 'Val_acc')\n",
    "axs[1].set_xlabel('epoch')\n",
    "axs[1].set_ylabel('Accuracy')\n",
    "axs[1].legend()\n",
    "\n",
    "plt.show()"
   ]
  },
  {
   "cell_type": "code",
   "execution_count": 81,
   "metadata": {
    "execution": {
     "iopub.execute_input": "2023-11-28T00:20:41.890988Z",
     "iopub.status.busy": "2023-11-28T00:20:41.890686Z",
     "iopub.status.idle": "2023-11-28T00:20:43.510797Z",
     "shell.execute_reply": "2023-11-28T00:20:43.509460Z",
     "shell.execute_reply.started": "2023-11-28T00:20:41.890953Z"
    }
   },
   "outputs": [
    {
     "name": "stdout",
     "output_type": "stream",
     "text": [
      "--Confusion_Matrix--\n",
      "\n",
      "[[  0   0   2   3   2   1   1   0   1   2   0   1   0]\n",
      " [  1  12   4  31  14   9   8   6   8  22   2  11   0]\n",
      " [  0   0   1   4   2   1   2   1   1   1   0   0   0]\n",
      " [ 12  11  14 162  54  19  37  18   4  70   2  32   0]\n",
      " [  7   7   8  63  54  16  28  23   4  48   1  16   0]\n",
      " [  1   1   1  10   8   5   5   3   1  11   0   3   0]\n",
      " [  0   4   1  29   8  13 118   9   1  59   0   9   0]\n",
      " [  1   0   0   9   2   2   7   5   0  10   0   1   0]\n",
      " [  0   3   1   0   3   0   0   0   1   1   0   0   0]\n",
      " [  3   8   7  50  27  17  63  23   2 126   0  11   1]\n",
      " [  0   1   0   0   0   0   0   0   0   0   0   0   0]\n",
      " [  1   5   0   8   5   2   8   2   0  13   0   4   0]\n",
      " [  0   0   0   1   0   0   0   0   0   0   0   0   0]]\n",
      "\n",
      "f1_score:  0.3053817271589487\n",
      "Precsion:  0.3053817271589487\n",
      "Recall:  0.3053817271589487\n"
     ]
    }
   ],
   "source": [
    "from sklearn.metrics import confusion_matrix, f1_score, precision_score, recall_score\n",
    "\n",
    "ypred = model_transformer.predict(x_test)\n",
    "ypred = np.argmax(ypred, axis=-1)\n",
    "conf_matrix  = confusion_matrix(ypred, y_test)\n",
    "\n",
    "print('--Confusion_Matrix--')\n",
    "print()\n",
    "print(conf_matrix)\n",
    "print()\n",
    "print('f1_score: ',f1_score(y_test, ypred, average='micro'))\n",
    "print('Precsion: ',precision_score(y_test, ypred, average='micro'))\n",
    "print('Recall: ',recall_score(y_test, ypred, average='micro'))"
   ]
  },
  {
   "cell_type": "code",
   "execution_count": 82,
   "metadata": {
    "execution": {
     "iopub.execute_input": "2023-11-28T00:20:44.867455Z",
     "iopub.status.busy": "2023-11-28T00:20:44.866907Z",
     "iopub.status.idle": "2023-11-28T00:20:45.153405Z",
     "shell.execute_reply": "2023-11-28T00:20:45.152886Z",
     "shell.execute_reply.started": "2023-11-28T00:20:44.867417Z"
    }
   },
   "outputs": [
    {
     "name": "stdout",
     "output_type": "stream",
     "text": [
      "--------------------------------------------------\n",
      "Input_Sentence:   happy mothers day to all moms                           \n",
      "----------------------------------------\n",
      "Actual_emotion:  neutral\n",
      "----------------------------------------\n",
      "Predicted_emotion:  neutral\n",
      "--------------------------------------------------\n",
      "\n",
      "--------------------------------------------------\n",
      "Input_Sentence:   somehow i cant reply to your message lol and yes i know thank youuu                   \n",
      "----------------------------------------\n",
      "Actual_emotion:  happiness\n",
      "----------------------------------------\n",
      "Predicted_emotion:  love\n",
      "--------------------------------------------------\n",
      "\n",
      "--------------------------------------------------\n",
      "Input_Sentence:   hi fellow                               \n",
      "----------------------------------------\n",
      "Actual_emotion:  neutral\n",
      "----------------------------------------\n",
      "Predicted_emotion:  neutral\n",
      "--------------------------------------------------\n",
      "\n",
      "--------------------------------------------------\n",
      "Input_Sentence:   thanks it seems that we can only submit community news is this an error or must we prove ourselves              \n",
      "----------------------------------------\n",
      "Actual_emotion:  relief\n",
      "----------------------------------------\n",
      "Predicted_emotion:  worry\n",
      "--------------------------------------------------\n",
      "\n",
      "--------------------------------------------------\n",
      "Input_Sentence:   sarahjpin good only just managed to turn my studio on i envy your productivity                   \n",
      "----------------------------------------\n",
      "Actual_emotion:  happiness\n",
      "----------------------------------------\n",
      "Predicted_emotion:  surprise\n",
      "--------------------------------------------------\n",
      "\n"
     ]
    }
   ],
   "source": [
    "## inference\n",
    "import random\n",
    "\n",
    "index = {}\n",
    "for val, key in enumerate(word_index.keys()):\n",
    "    index[val+1] = key \n",
    "inv_word_index = index\n",
    "inv_word_index[0] = ''\n",
    "\n",
    "\n",
    "def reverser(inp):\n",
    "    st = ''\n",
    "    for i in inp:\n",
    "        st += ' ' + str(inv_word_index.get(i))\n",
    "    return st\n",
    "\n",
    "def predict():\n",
    "    seed = random.randint(0, x_test.shape[0])\n",
    "    x_seed = x_test[seed]\n",
    "    act = y_test[seed]\n",
    "    st = reverser(x_seed)\n",
    "    print('Input_Sentence: ', st)\n",
    "    print('--'*20)\n",
    "    print('Actual_emotion: ', inv_label_index.get(act))\n",
    "    pred = (np.argmax(model_transformer.predict(x_seed.reshape(1,-1)), axis=-1).tolist())\n",
    "    print('--'*20)\n",
    "    print('Predicted_emotion: ', inv_label_index.get(pred[-1]))\n",
    "\n",
    "for _ in range(5):\n",
    "    print('-'*50)\n",
    "    predict()\n",
    "    print('-'*50)\n",
    "    print()"
   ]
  },
  {
   "cell_type": "code",
   "execution_count": null,
   "metadata": {},
   "outputs": [],
   "source": []
  }
 ],
 "metadata": {
  "kaggle": {
   "accelerator": "gpu",
   "dataSources": [
    {
     "datasetId": 1116138,
     "sourceId": 1874890,
     "sourceType": "datasetVersion"
    }
   ],
   "dockerImageVersionId": 30138,
   "isGpuEnabled": true,
   "isInternetEnabled": false,
   "language": "python",
   "sourceType": "notebook"
  },
  "kernelspec": {
   "display_name": "Python 3 (ipykernel)",
   "language": "python",
   "name": "python3"
  },
  "language_info": {
   "codemirror_mode": {
    "name": "ipython",
    "version": 3
   },
   "file_extension": ".py",
   "mimetype": "text/x-python",
   "name": "python",
   "nbconvert_exporter": "python",
   "pygments_lexer": "ipython3",
   "version": "3.10.11"
  }
 },
 "nbformat": 4,
 "nbformat_minor": 4
}
